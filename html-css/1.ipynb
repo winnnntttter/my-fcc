{
 "cells": [
  {
   "cell_type": "code",
   "execution_count": null,
   "metadata": {},
   "outputs": [],
   "source": [
    "<style>\n",
    "  .d1 {\n",
    "    background: LightSkyBlue;\n",
    "  }\n",
    "  .d2 {\n",
    "    background: LightSalmon;\n",
    "  }\n",
    "  .d3 {\n",
    "    background: PaleTurquoise;\n",
    "  }\n",
    "  .d4 {\n",
    "    background: LightPink;\n",
    "  }\n",
    "  .d5 {\n",
    "    background: PaleGreen;\n",
    "    grid-column: 1 / 3;\n",
    "  }\n",
    "\n",
    "  .container {\n",
    "    font-size: 40px;\n",
    "    width: 100%;\n",
    "    background: LightGray;\n",
    "    display: grid;\n",
    "    grid-template-rows: 50px 50px;\n",
    "    grid-template-columns: 1fr 100px 1fr;\n",
    "    grid-template-rows: 1fr 1fr 1fr;\n",
    "    grid-gap: 10px;\n",
    "  }\n",
    "</style>\n",
    "<div class=\"container\">\n",
    "  <div class=\"d1\">1</div>\n",
    "  <div class=\"d2\">2</div>\n",
    "  <div class=\"d3\">3</div>\n",
    "  <div class=\"d4\">4</div>\n",
    "  <div class=\"d5\">5</div>\n",
    "</div>\n"
   ]
  }
 ],
 "metadata": {
  "interpreter": {
   "hash": "62b8e38797574a9de3c3f9bc79729bb88e3b9c6776c95587f79be5c56a9bdc90"
  },
  "kernelspec": {
   "display_name": "Python 3.10.0 64-bit",
   "language": "python",
   "name": "python3"
  },
  "language_info": {
   "codemirror_mode": {
    "name": "ipython",
    "version": 3
   },
   "file_extension": ".py",
   "mimetype": "text/x-python",
   "name": "python",
   "nbconvert_exporter": "python",
   "pygments_lexer": "ipython3",
   "version": "3.10.0"
  },
  "orig_nbformat": 4
 },
 "nbformat": 4,
 "nbformat_minor": 2
}
